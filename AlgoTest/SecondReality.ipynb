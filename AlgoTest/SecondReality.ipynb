{
 "cells": [
  {
   "cell_type": "code",
   "execution_count": 2,
   "id": "3a69217d",
   "metadata": {},
   "outputs": [],
   "source": [
    "import pygame\n",
    "import math"
   ]
  },
  {
   "cell_type": "code",
   "execution_count": 6,
   "id": "d29a1b2c",
   "metadata": {},
   "outputs": [],
   "source": [
    "SX = 800\n",
    "SY = 800\n",
    "N_circles = 100\n",
    "StepR = 10\n",
    "StepColor = (255 - 50) / N_circles\n",
    "circles = []\n",
    "X = 0\n",
    "Y = 1\n",
    "RAD = 2\n",
    "COLOR = 3\n",
    "rot = 0.05"
   ]
  },
  {
   "cell_type": "code",
   "execution_count": 7,
   "id": "7c932054",
   "metadata": {},
   "outputs": [],
   "source": [
    "def draw_circle(circle):\n",
    "    alpha = 0\n",
    "    step = math.pi * 2 / 100\n",
    "    while alpha < math.pi * 2:\n",
    "        s_x = round(circle[X] + math.sin(alpha) * circle[RAD])\n",
    "        s_y = round(circle[Y] + math.cos(alpha) * circle[RAD] / 1.5)\n",
    "        color = round(circle[COLOR])\n",
    "        if 0 < s_x < SX and 0 < s_y < SY:\n",
    "            pygame.draw.circle(screen, (color, color, color), (s_x, s_y), 2)\n",
    "        alpha += step"
   ]
  },
  {
   "cell_type": "code",
   "execution_count": 8,
   "id": "f985bf91",
   "metadata": {},
   "outputs": [],
   "source": [
    "for i in range (0, N_circles):\n",
    "    circles.append([SX // 2, SY // 2, 100, 50])"
   ]
  },
  {
   "cell_type": "code",
   "execution_count": null,
   "id": "b2907df8",
   "metadata": {},
   "outputs": [],
   "source": []
  },
  {
   "cell_type": "code",
   "execution_count": 12,
   "id": "8df58a84",
   "metadata": {},
   "outputs": [],
   "source": [
    "pygame.init()\n",
    "screen = pygame.display.set_mode((SX, SY))\n",
    "running = True\n",
    "while running:\n",
    "    for event in pygame.event.get():\n",
    "        if event.type == pygame.QUIT:\n",
    "            running = False\n",
    "    screen.fill((0, 0, 0))\n",
    "    for i in range(len(circles) - 2, -1, -1):\n",
    "        c = circles[i]\n",
    "        c[RAD] += StepR\n",
    "        c[COLOR] += StepColor\n",
    "        circles[i + 1] = c\n",
    "        draw_circle(c)\n",
    "    \n",
    "    sx = SX // 2 + math.sin(rot) * 50.0\n",
    "    sy = SY // 2 + math.sin(rot) * 50.0\n",
    "    \n",
    "    circles[0] = [sx, sy, 100, 50]\n",
    "    rot += 0.05\n",
    "    \n",
    "    pygame.display.flip()\n",
    "pygame.quit()"
   ]
  },
  {
   "cell_type": "code",
   "execution_count": null,
   "id": "d48482ea",
   "metadata": {},
   "outputs": [],
   "source": []
  }
 ],
 "metadata": {
  "kernelspec": {
   "display_name": "Python 3",
   "language": "python",
   "name": "python3"
  },
  "language_info": {
   "codemirror_mode": {
    "name": "ipython",
    "version": 3
   },
   "file_extension": ".py",
   "mimetype": "text/x-python",
   "name": "python",
   "nbconvert_exporter": "python",
   "pygments_lexer": "ipython3",
   "version": "3.8.8"
  }
 },
 "nbformat": 4,
 "nbformat_minor": 5
}
