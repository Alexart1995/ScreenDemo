{
 "cells": [
  {
   "cell_type": "code",
   "execution_count": 2,
   "id": "ada6a9bb",
   "metadata": {},
   "outputs": [
    {
     "name": "stdout",
     "output_type": "stream",
     "text": [
      "pygame 2.1.2 (SDL 2.0.18, Python 3.8.8)\n",
      "Hello from the pygame community. https://www.pygame.org/contribute.html\n"
     ]
    }
   ],
   "source": [
    "import pygame"
   ]
  },
  {
   "cell_type": "code",
   "execution_count": 7,
   "id": "72b4086e",
   "metadata": {},
   "outputs": [],
   "source": [
    "import random"
   ]
  },
  {
   "cell_type": "code",
   "execution_count": 20,
   "id": "f4c66d5a",
   "metadata": {},
   "outputs": [],
   "source": [
    "SX = 800\n",
    "SY = 800\n",
    "# X = random.randint(0, SX) - SX // 2\n",
    "# Y = random.randint(0, SY) - SY // 2\n",
    "# Z = 256\n",
    "# color = 0"
   ]
  },
  {
   "cell_type": "code",
   "execution_count": 37,
   "id": "56709d89",
   "metadata": {},
   "outputs": [],
   "source": [
    "N = 200;\n",
    "speed = 0.1;\n",
    "stars = [];"
   ]
  },
  {
   "cell_type": "code",
   "execution_count": 39,
   "id": "137c17a1",
   "metadata": {},
   "outputs": [
    {
     "data": {
      "text/plain": [
       "[]"
      ]
     },
     "execution_count": 39,
     "metadata": {},
     "output_type": "execute_result"
    }
   ],
   "source": [
    "stars"
   ]
  },
  {
   "cell_type": "code",
   "execution_count": 40,
   "id": "1b629c14",
   "metadata": {},
   "outputs": [],
   "source": [
    "def new_star():\n",
    "    star = [random.randint(0, SX) - SX // 2, random.randint(0, SY) - SY // 2, 256, 0];\n",
    "    return star;"
   ]
  },
  {
   "cell_type": "code",
   "execution_count": 53,
   "id": "70c33ccb",
   "metadata": {},
   "outputs": [],
   "source": [
    "for i in range (0, N):\n",
    "    stars.append(new_star_ver2());"
   ]
  },
  {
   "cell_type": "code",
   "execution_count": 52,
   "id": "e5b968b3",
   "metadata": {},
   "outputs": [],
   "source": [
    "def new_star_ver2():\n",
    "    star = [random.randint(0, SX) - SX // 2, random.randint(0, SY) - SY // 2, 256, random.randint(0, 255)];\n",
    "    return star;"
   ]
  },
  {
   "cell_type": "code",
   "execution_count": 57,
   "id": "b02570fd",
   "metadata": {},
   "outputs": [],
   "source": [
    "pygame.init()\n",
    "screen = pygame.display.set_mode((SX, SY))\n",
    "running = True;\n",
    "while running:\n",
    "    for event in pygame.event.get():\n",
    "        if event.type == pygame.QUIT:\n",
    "            running = False\n",
    "    screen.fill((0, 0, 0))\n",
    "    x = y = 0\n",
    "    for i in range(0, N):\n",
    "        s = stars[i]\n",
    "        x = s[0] * 256 / s[2]\n",
    "        y = s[1] * 256 / s[2]\n",
    "        s[2] -= speed\n",
    "        \n",
    "        if s[2] <= 0 or x <= -SX // 2 or x >= SX // 2 or y <= -SY // 2 or y >= SY // 2:\n",
    "            s = new_star()\n",
    "            \n",
    "        if s[3] < 256:\n",
    "            s[3] += 0.15\n",
    "        \n",
    "        if s[3] >= 256:\n",
    "            s[3] = 255\n",
    "        \n",
    "        stars[i] = s\n",
    "        \n",
    "        x = round(s[0] * 256 / s[2]) + SX // 2\n",
    "        y = round(s[1] * 256 / s[2]) + SY // 2\n",
    "        \n",
    "        pygame.draw.circle(screen, (s[3], s[3], s[3]), (x, y), 3)\n",
    "        \n",
    "    pygame.display.flip()\n",
    "pygame.quit()       "
   ]
  },
  {
   "cell_type": "code",
   "execution_count": 56,
   "id": "c2c2c9db",
   "metadata": {},
   "outputs": [],
   "source": [
    "pygame.init()\n",
    "screen = pygame.display.set_mode((SX, SY))\n",
    "running = True;\n",
    "while running:\n",
    "    for event in pygame.event.get():\n",
    "        if event.type == pygame.QUIT:\n",
    "            running = False\n",
    "    screen.fill((0, 0, 0))\n",
    "    x = y = 0\n",
    "    for i in range(0, N):\n",
    "        s = stars[i]\n",
    "        x = s[0] * 256 / s[2]\n",
    "        y = s[1] * 256 / s[2]\n",
    "        s[0] -= speed\n",
    "        \n",
    "        if s[2] <= 0 or x <= -SX // 2 or x >= SX // 2 or y <= -SY // 2 or y >= SY // 2:\n",
    "            s = new_star_ver2()\n",
    "            \n",
    "#         if s[3] < 256:\n",
    "#             s[3] += 0.15\n",
    "        \n",
    "        if s[3] >= 256:\n",
    "            s[3] = 255\n",
    "        \n",
    "        stars[i] = s\n",
    "        \n",
    "        x = round(s[0] * 256 / s[2]) + SX // 2\n",
    "        y = round(s[1] * 256 / s[2]) + SY // 2\n",
    "        \n",
    "        pygame.draw.circle(screen, (s[3], s[3], s[3]), (x, y), 3)\n",
    "        \n",
    "    pygame.display.flip()\n",
    "pygame.quit()       "
   ]
  },
  {
   "cell_type": "code",
   "execution_count": null,
   "id": "df3dd190",
   "metadata": {},
   "outputs": [],
   "source": []
  }
 ],
 "metadata": {
  "kernelspec": {
   "display_name": "Python 3",
   "language": "python",
   "name": "python3"
  },
  "language_info": {
   "codemirror_mode": {
    "name": "ipython",
    "version": 3
   },
   "file_extension": ".py",
   "mimetype": "text/x-python",
   "name": "python",
   "nbconvert_exporter": "python",
   "pygments_lexer": "ipython3",
   "version": "3.8.8"
  }
 },
 "nbformat": 4,
 "nbformat_minor": 5
}
